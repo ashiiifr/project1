{
 "cells": [
  {
   "cell_type": "code",
   "execution_count": null,
   "metadata": {},
   "outputs": [],
   "source": [
    "!pip install -r requirements.txt"
   ]
  },
  {
   "cell_type": "code",
   "execution_count": null,
   "metadata": {
    "ExecuteTime": {
     "end_time": "2025-09-30T06:49:07.078007Z",
     "start_time": "2025-09-30T06:49:07.048405Z"
    }
   },
   "outputs": [],
   "source": [
    "# Import necessary libraries\n",
    "import pandas as pd\n",
    "import numpy as np\n",
    "import matplotlib.pyplot as plt\n",
    "import seaborn as sns\n",
    "from sklearn.model_selection import train_test_split\n",
    "from sklearn.ensemble import RandomForestClassifier\n",
    "from sklearn.linear_model import LogisticRegression\n",
    "from sklearn.svm import SVC\n",
    "from sklearn.metrics import classification_report, confusion_matrix, accuracy_score\n",
    "from sklearn.preprocessing import StandardScaler\n",
    "import plotly.express as px\n",
    "import plotly.graph_objects as go\n",
    "from plotly.subplots import make_subplots\n",
    "import warnings\n",
    "import kagglehub\n",
    "warnings.filterwarnings('ignore')"
   ]
  },
  {
   "cell_type": "code",
   "execution_count": null,
   "metadata": {
    "ExecuteTime": {
     "end_time": "2025-09-30T06:48:07.791251Z",
     "start_time": "2025-09-30T06:48:07.227209Z"
    }
   },
   "outputs": [],
   "source": [
    "# Download and load dataset\n",
    "path = kagglehub.dataset_download(\"uciml/breast-cancer-wisconsin-data\")\n",
    "df = pd.read_csv(path+'/data.csv')"
   ]
  },
  {
   "cell_type": "code",
   "execution_count": null,
   "metadata": {},
   "outputs": [],
   "source": [
    "# Display basic information\n",
    "print(\"Dataset Shape:\", df.shape)\n",
    "print(\"\\nFirst 5 rows:\")\n",
    "df.head()"
   ]
  },
  {
   "cell_type": "code",
   "execution_count": null,
   "metadata": {},
   "outputs": [],
   "source": [
    "# Data preprocessing\n",
    "df = df.drop(['id', 'Unnamed: 32'], axis=1)\n",
    "print(\"\\nColumns after dropping ID and Unnamed:\")\n",
    "print(df.columns.tolist())"
   ]
  },
  {
   "cell_type": "code",
   "execution_count": null,
   "metadata": {},
   "outputs": [],
   "source": [
    "# Check for missing values\n",
    "print(\"\\nMissing values:\", df.isnull().sum().sum())"
   ]
  },
  {
   "cell_type": "code",
   "execution_count": null,
   "metadata": {},
   "outputs": [],
   "source": [
    "# Target distribution\n",
    "print(\"\\nTarget distribution:\")\n",
    "print(df['diagnosis'].value_counts())"
   ]
  },
  {
   "cell_type": "code",
   "execution_count": null,
   "metadata": {},
   "outputs": [],
   "source": [
    "# Encode target variable\n",
    "df['diagnosis'] = df['diagnosis'].map({'M': 1, 'B': 0})"
   ]
  },
  {
   "cell_type": "code",
   "execution_count": null,
   "metadata": {},
   "outputs": [],
   "source": [
    "# Feature statistics\n",
    "print(\"\\nFeature statistics:\")\n",
    "df.describe()"
   ]
  },
  {
   "cell_type": "code",
   "execution_count": null,
   "metadata": {},
   "outputs": [],
   "source": [
    "# Correlation analysis\n",
    "corr_matrix = df.corr()\n",
    "top_corr_features = corr_matrix.index[abs(corr_matrix[\"diagnosis\"]) > 0.5]\n",
    "print(\"\\nFeatures with high correlation to diagnosis:\")\n",
    "print(top_corr_features.tolist())"
   ]
  },
  {
   "cell_type": "code",
   "execution_count": null,
   "metadata": {},
   "outputs": [],
   "source": [
    "# Create visualizations\n",
    "fig, axes = plt.subplots(2, 2, figsize=(15, 12))\n",
    "\n",
    "# 1. Diagnosis distribution\n",
    "sns.countplot(data=df, x='diagnosis', ax=axes[0,0])\n",
    "axes[0,0].set_title('Diagnosis Distribution')\n",
    "axes[0,0].set_xlabel('Diagnosis (0: Benign, 1: Malignant)')\n",
    "\n",
    "# 2. Correlation heatmap\n",
    "sns.heatmap(df[top_corr_features].corr(), annot=True, cmap='coolwarm', ax=axes[0,1])\n",
    "axes[0,1].set_title('Correlation Heatmap (High Correlation Features)')\n",
    "\n",
    "# 3. Feature distribution comparison\n",
    "feature_to_plot = 'radius_mean'\n",
    "df_melted = df.melt(id_vars=['diagnosis'], value_vars=[feature_to_plot])\n",
    "sns.boxplot(data=df_melted, x='variable', y='value', hue='diagnosis', ax=axes[1,0])\n",
    "axes[1,0].set_title(f'{feature_to_plot} by Diagnosis')\n",
    "axes[1,0].set_xlabel('')\n",
    "\n",
    "# 4. Pairplot for top features\n",
    "top_features = ['radius_mean', 'texture_mean', 'perimeter_mean', 'area_mean', 'diagnosis']\n",
    "sns.scatterplot(data=df[top_features], x='radius_mean', y='texture_mean', hue='diagnosis', ax=axes[1,1])\n",
    "axes[1,1].set_title('Radius vs Texture by Diagnosis')\n",
    "\n",
    "plt.tight_layout()\n",
    "plt.show()"
   ]
  },
  {
   "cell_type": "code",
   "execution_count": null,
   "metadata": {},
   "outputs": [],
   "source": [
    "# Interactive 3D visualization\n",
    "fig = px.scatter_3d(df, \n",
    "                    x='radius_mean', \n",
    "                    y='texture_mean', \n",
    "                    z='perimeter_mean',\n",
    "                    color='diagnosis',\n",
    "                    title='3D Scatter Plot: Radius vs Texture vs Perimeter',\n",
    "                    labels={'diagnosis': 'Diagnosis (0: Benign, 1: Malignant)'})\n",
    "fig.show()"
   ]
  },
  {
   "cell_type": "code",
   "execution_count": null,
   "metadata": {},
   "outputs": [],
   "source": [
    "# Feature importance visualization\n",
    "X = df.drop('diagnosis', axis=1)\n",
    "y = df['diagnosis']\n",
    "\n",
    "# Train Random Forest for feature importance\n",
    "rf = RandomForestClassifier(n_estimators=100, random_state=42)\n",
    "rf.fit(X, y)\n",
    "\n",
    "# Get feature importance\n",
    "importance_df = pd.DataFrame({\n",
    "    'feature': X.columns,\n",
    "    'importance': rf.feature_importances_\n",
    "}).sort_values('importance', ascending=False)\n",
    "\n",
    "# Plot top 15 features\n",
    "plt.figure(figsize=(10, 8))\n",
    "sns.barplot(data=importance_df.head(15), x='importance', y='feature')\n",
    "plt.title('Top 15 Feature Importances')\n",
    "plt.xlabel('Importance')\n",
    "plt.ylabel('Feature')\n",
    "plt.show()"
   ]
  },
  {
   "cell_type": "code",
   "execution_count": null,
   "metadata": {},
   "outputs": [],
   "source": [
    "# Model comparison\n",
    "X_train, X_test, y_train, y_test = train_test_split(X, y, test_size=0.2, random_state=42)\n",
    "\n",
    "# Scale features\n",
    "scaler = StandardScaler()\n",
    "X_train_scaled = scaler.fit_transform(X_train)\n",
    "X_test_scaled = scaler.transform(X_test)\n",
    "\n",
    "# Initialize models\n",
    "models = {\n",
    "    'Random Forest': RandomForestClassifier(n_estimators=100, random_state=42),\n",
    "    'Logistic Regression': LogisticRegression(random_state=42),\n",
    "    'SVM': SVC(random_state=42)\n",
    "}\n",
    "\n",
    "# Train and evaluate models\n",
    "results = {}\n",
    "for name, model in models.items():\n",
    "    if name == 'Random Forest':\n",
    "        model.fit(X_train, y_train)\n",
    "        y_pred = model.predict(X_test)\n",
    "    else:\n",
    "        model.fit(X_train_scaled, y_train)\n",
    "        y_pred = model.predict(X_test_scaled)\n",
    "    \n",
    "    accuracy = accuracy_score(y_test, y_pred)\n",
    "    results[name] = accuracy\n",
    "    print(f\"\\n{name} Results:\")\n",
    "    print(f\"Accuracy: {accuracy:.4f}\")\n",
    "    print(classification_report(y_test, y_pred))"
   ]
  },
  {
   "cell_type": "code",
   "execution_count": null,
   "metadata": {},
   "outputs": [],
   "source": [
    "# Model comparison visualization\n",
    "plt.figure(figsize=(8, 5))\n",
    "models_names = list(results.keys())\n",
    "accuracies = list(results.values())\n",
    "sns.barplot(x=models_names, y=accuracies, palette='viridis')\n",
    "plt.ylabel('Accuracy')\n",
    "plt.title('Model Comparison')\n",
    "plt.ylim(0.9, 1.0)\n",
    "for i, v in enumerate(accuracies):\n",
    "    plt.text(i, v + 0.001, f\"{v:.4f}\", ha='center')\n",
    "plt.show()"
   ]
  },
  {
   "cell_type": "code",
   "execution_count": null,
   "metadata": {},
   "outputs": [],
   "source": [
    "# Confusion matrix for best model\n",
    "best_model_name = max(results, key=results.get)\n",
    "best_model = models[best_model_name]\n",
    "\n",
    "if best_model_name == 'Random Forest':\n",
    "    y_pred_best = best_model.predict(X_test)\n",
    "else:\n",
    "    y_pred_best = best_model.predict(X_test_scaled)\n",
    "\n",
    "# Plot confusion matrix\n",
    "plt.figure(figsize=(6, 4))\n",
    "sns.heatmap(confusion_matrix(y_test, y_pred_best), annot=True, fmt='d', cmap='Blues')\n",
    "plt.title(f'Confusion Matrix - {best_model_name}')\n",
    "plt.xlabel('Predicted')\n",
    "plt.ylabel('Actual')\n",
    "plt.show()"
   ]
  },
  {
   "cell_type": "code",
   "execution_count": null,
   "metadata": {},
   "outputs": [],
   "source": [
    "# Advanced visualization: Parallel coordinates\n",
    "fig = px.parallel_coordinates(\n",
    "    df[top_features],\n",
    "    color='diagnosis',\n",
    "    title='Parallel Coordinates Plot for Top Features',\n",
    "    color_continuous_scale=px.colors.diverging.Tealrose\n",
    ")\n",
    "fig.show()"
   ]
  },
  {
   "cell_type": "code",
   "execution_count": null,
   "metadata": {},
   "outputs": [],
   "source": [
    "# Distribution of top features by diagnosis\n",
    "fig, axes = plt.subplots(3, 2, figsize=(15, 12))\n",
    "top_features_list = importance_df['feature'].head(6).tolist()\n",
    "\n",
    "for i, feature in enumerate(top_features_list):\n",
    "    row = i // 2\n",
    "    col = i % 2\n",
    "    sns.histplot(data=df, x=feature, hue='diagnosis', kde=True, ax=axes[row, col])\n",
    "    axes[row, col].set_title(f'Distribution of {feature}')\n",
    "\n",
    "# Remove empty subplot\n",
    "axes[2, 1].remove()\n",
    "plt.tight_layout()\n",
    "plt.show()"
   ]
  },
  {
   "cell_type": "code",
   "execution_count": null,
   "metadata": {},
   "outputs": [],
   "source": [
    "# Summary statistics by diagnosis\n",
    "summary_stats = df.groupby('diagnosis').agg(['mean', 'std'])\n",
    "print(\"\\nSummary Statistics by Diagnosis:\")\n",
    "summary_stats.head()"
   ]
  },
  {
   "cell_type": "code",
   "execution_count": null,
   "metadata": {},
   "outputs": [],
   "source": [
    "# Radar chart for feature comparison\n",
    "top_5_features = importance_df.head(5)['feature'].tolist()\n",
    "benign_mean = df[df['diagnosis'] == 0][top_5_features].mean()\n",
    "malignant_mean = df[df['diagnosis'] == 1][top_5_features].mean()\n",
    "\n",
    "fig = go.Figure()\n",
    "fig.add_trace(go.Scatterpolar(\n",
    "    r=benign_mean.values,\n",
    "    theta=top_5_features,\n",
    "    fill='toself',\n",
    "    name='Benign'\n",
    "))\n",
    "fig.add_trace(go.Scatterpolar(\n",
    "    r=malignant_mean.values,\n",
    "    theta=top_5_features,\n",
    "    fill='toself',\n",
    "    name='Malignant'\n",
    "))\n",
    "\n",
    "fig.update_layout(\n",
    "    polar=dict(\n",
    "        radialaxis=dict(\n",
    "            visible=True,\n",
    "            range=[0, max(benign_mean.max(), malignant_mean.max())]\n",
    "        )),\n",
    "    showlegend=True,\n",
    "    title=\"Average Feature Values: Benign vs Malignant\"\n",
    ")\n",
    "fig.show()"
   ]
  },
  {
   "cell_type": "code",
   "execution_count": null,
   "metadata": {},
   "outputs": [],
   "source": [
    "# Project Summary\n",
    "print(\"\\nProject Summary:\")\n",
    "print(f\"- Dataset contains {df.shape[0]} samples and {df.shape[1]-1} features\")\n",
    "print(f\"- Best performing model: {best_model_name} with accuracy: {results[best_model_name]:.4f}\")\n",
    "print(f\"- Most important features: {', '.join(importance_df.head(3)['feature'].tolist())}\")"
   ]
  },
  {
   "cell_type": "code",
   "execution_count": null,
   "metadata": {},
   "outputs": [],
   "source": []
  },
  {
   "cell_type": "code",
   "execution_count": null,
   "metadata": {},
   "outputs": [],
   "source": []
  },
  {
   "cell_type": "code",
   "execution_count": null,
   "metadata": {},
   "outputs": [],
   "source": []
  },
  {
   "cell_type": "code",
   "execution_count": null,
   "metadata": {},
   "outputs": [],
   "source": []
  }
 ],
 "metadata": {
  "kernelspec": {
   "display_name": "Python 3 (ipykernel)",
   "language": "python",
   "name": "python3"
  },
  "language_info": {
   "codemirror_mode": {
    "name": "ipython",
    "version": 3
   },
   "file_extension": ".py",
   "mimetype": "text/x-python",
   "name": "python",
   "nbconvert_exporter": "python",
   "pygments_lexer": "ipython3",
   "version": "3.13.5"
  }
 },
 "nbformat": 4,
 "nbformat_minor": 4
}
